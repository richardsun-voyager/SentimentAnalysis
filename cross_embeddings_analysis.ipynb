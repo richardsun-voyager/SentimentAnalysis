{
 "cells": [
  {
   "cell_type": "markdown",
   "metadata": {},
   "source": [
    "In this project, we attempted to load and explore embeddings of Malay and Indonesian."
   ]
  },
  {
   "cell_type": "code",
   "execution_count": 1,
   "metadata": {
    "collapsed": true
   },
   "outputs": [],
   "source": [
    "import numpy as np\n",
    "import pandas as pd\n",
    "from matplotlib import pyplot as plt\n",
    "%matplotlib inline"
   ]
  },
  {
   "cell_type": "markdown",
   "metadata": {},
   "source": [
    "## Indonesian Language"
   ]
  },
  {
   "cell_type": "code",
   "execution_count": 19,
   "metadata": {
    "collapsed": false
   },
   "outputs": [],
   "source": [
    "path = '../data/word_embeddings/'\n",
    "#Indonesia language\n",
    "indo_path = path + 'id/id.tsv'\n",
    "#indo = pd.read_csv(indo_path, sep='\\t', header=None, names=['index', 'word', 'embed'])"
   ]
  },
  {
   "cell_type": "code",
   "execution_count": 20,
   "metadata": {
    "collapsed": false
   },
   "outputs": [],
   "source": [
    "#indo_path = path + 'id/id.bin'\n",
    "import re\n",
    "#Read each word and its embedding\n",
    "with open(indo_path) as fi:\n",
    "    items = []\n",
    "    item = ''\n",
    "    for line in fi:\n",
    "        if re.match('^[0-9]+', line):\n",
    "            if item != '':\n",
    "                items.append(item)\n",
    "            item = line\n",
    "        else:\n",
    "            item += line\n",
    "        "
   ]
  },
  {
   "cell_type": "code",
   "execution_count": 21,
   "metadata": {
    "collapsed": false
   },
   "outputs": [],
   "source": [
    "#Split a text into word and embedding\n",
    "def split_text(text):\n",
    "    text = re.sub('\\n', '', text)\n",
    "    text = re.sub('[ ]+',' ', text)\n",
    "    text = re.sub('[\\[\\]]','', text)\n",
    "    text = text.split('\\t')\n",
    "    text[2] = text[2].strip()\n",
    "    text[2] = text[2].replace(' ',',')\n",
    "    return (text[1], np.array(eval(text[2])))"
   ]
  },
  {
   "cell_type": "code",
   "execution_count": 22,
   "metadata": {
    "collapsed": false
   },
   "outputs": [],
   "source": [
    "vocab_indo = dict(map(split_text, items))"
   ]
  },
  {
   "cell_type": "code",
   "execution_count": 23,
   "metadata": {
    "collapsed": false
   },
   "outputs": [
    {
     "data": {
      "text/plain": [
       "30047"
      ]
     },
     "execution_count": 23,
     "metadata": {},
     "output_type": "execute_result"
    }
   ],
   "source": [
    "len(vocab_indo)"
   ]
  },
  {
   "cell_type": "markdown",
   "metadata": {
    "collapsed": true
   },
   "source": [
    "## Malay Lanugage"
   ]
  },
  {
   "cell_type": "code",
   "execution_count": 24,
   "metadata": {
    "collapsed": true
   },
   "outputs": [],
   "source": [
    "path = '../data/word_embeddings/'\n",
    "#Indonesia language\n",
    "ms_path = path + 'ms/ms.tsv'\n",
    "#indo = pd.read_csv(indo_path, sep='\\t', header=None, names=['index', 'word', 'embed'])"
   ]
  },
  {
   "cell_type": "code",
   "execution_count": 25,
   "metadata": {
    "collapsed": false
   },
   "outputs": [],
   "source": [
    "#Read each word and its embedding\n",
    "with open(ms_path) as fi:\n",
    "    items = []\n",
    "    item = ''\n",
    "    for line in fi:\n",
    "        if re.match('^[0-9]+', line):\n",
    "            if item != '':\n",
    "                items.append(item)\n",
    "            item = line\n",
    "        else:\n",
    "            item += line"
   ]
  },
  {
   "cell_type": "code",
   "execution_count": 26,
   "metadata": {
    "collapsed": true
   },
   "outputs": [],
   "source": [
    "vocab_ms = dict(map(split_text, items))"
   ]
  },
  {
   "cell_type": "code",
   "execution_count": 27,
   "metadata": {
    "collapsed": false
   },
   "outputs": [
    {
     "data": {
      "text/plain": [
       "10009"
      ]
     },
     "execution_count": 27,
     "metadata": {},
     "output_type": "execute_result"
    }
   ],
   "source": [
    "len(vocab_ms)"
   ]
  },
  {
   "cell_type": "markdown",
   "metadata": {},
   "source": [
    "## Exploration"
   ]
  },
  {
   "cell_type": "code",
   "execution_count": 29,
   "metadata": {
    "collapsed": true
   },
   "outputs": [],
   "source": [
    "indo_word_list = ['sekolah']\n",
    "malay_word_list = ['sekolah']"
   ]
  },
  {
   "cell_type": "code",
   "execution_count": null,
   "metadata": {
    "collapsed": true
   },
   "outputs": [],
   "source": []
  }
 ],
 "metadata": {
  "kernelspec": {
   "display_name": "Python 3",
   "language": "python",
   "name": "python3"
  },
  "language_info": {
   "codemirror_mode": {
    "name": "ipython",
    "version": 3
   },
   "file_extension": ".py",
   "mimetype": "text/x-python",
   "name": "python",
   "nbconvert_exporter": "python",
   "pygments_lexer": "ipython3",
   "version": "3.6.0"
  }
 },
 "nbformat": 4,
 "nbformat_minor": 2
}

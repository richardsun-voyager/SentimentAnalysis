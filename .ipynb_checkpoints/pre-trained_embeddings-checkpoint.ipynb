{
 "cells": [
  {
   "cell_type": "code",
   "execution_count": 1,
   "metadata": {},
   "outputs": [],
   "source": [
    "import numpy as np\n",
    "from matplotlib import pyplot as plt\n",
    "import pandas as pd\n",
    "%matplotlib inline"
   ]
  },
  {
   "cell_type": "code",
   "execution_count": 2,
   "metadata": {},
   "outputs": [],
   "source": [
    "train_data = pd.read_csv('data/intermediate_data/train_processed.csv')\n",
    "test_data = pd.read_csv('data/intermediate_data/test_processed.csv')\n",
    "train_processed = list(train_data.text.values)\n",
    "train_labels = list(train_data.sentiment.values)\n",
    "test_processed = list(test_data.text.values)\n",
    "test_labels = list(test_data.sentiment.values)"
   ]
  },
  {
   "cell_type": "markdown",
   "metadata": {},
   "source": [
    "## Read pre-trained embeddings"
   ]
  },
  {
   "cell_type": "code",
   "execution_count": 27,
   "metadata": {},
   "outputs": [],
   "source": [
    "file = 'data/sswe-u.txt'\n",
    "word_emb = {}\n",
    "with open(file) as fi:\n",
    "    for line in fi:\n",
    "        items = line.split()\n",
    "        word_emb[items[0]] = np.array(items[1:], dtype=np.float32)"
   ]
  },
  {
   "cell_type": "code",
   "execution_count": 29,
   "metadata": {},
   "outputs": [
    {
     "data": {
      "text/plain": [
       "array([-0.57881469,  0.92556798,  0.46488839,  0.35405961, -2.63635993,\n",
       "        2.29956794, -0.66394877,  0.61521488, -0.16932181,  0.25359181,\n",
       "        0.52391988,  0.03204051, -0.4096407 , -0.1301239 ,  0.1830793 ,\n",
       "       -0.84529358, -1.40380001, -0.32352889, -1.46755195, -0.46172541,\n",
       "        1.23517299, -1.01539004,  0.89252478,  1.23653102,  1.10636997,\n",
       "        0.94847381, -1.05302501,  0.45638961, -1.52356398, -0.01358143,\n",
       "        0.53842032, -2.00235391,  0.88459599,  1.26996398, -1.64902902,\n",
       "       -0.96611053,  0.04843707, -0.01786563,  1.134794  ,  0.78327078,\n",
       "       -1.52546799, -1.791098  , -0.98401898, -0.1604346 ,  0.29296371,\n",
       "        0.64560997,  2.0015769 ,  1.38100803, -0.74041641,  1.55809605], dtype=float32)"
      ]
     },
     "execution_count": 29,
     "metadata": {},
     "output_type": "execute_result"
    }
   ],
   "source": [
    "word_emb['<unk>']"
   ]
  },
  {
   "cell_type": "code",
   "execution_count": 28,
   "metadata": {},
   "outputs": [
    {
     "data": {
      "text/plain": [
       "137052"
      ]
     },
     "execution_count": 28,
     "metadata": {},
     "output_type": "execute_result"
    }
   ],
   "source": [
    "#Vocabulary size\n",
    "len(word_emb.keys())"
   ]
  },
  {
   "cell_type": "code",
   "execution_count": 30,
   "metadata": {},
   "outputs": [],
   "source": [
    "def word2vec(word, vocab_embed):\n",
    "    try:\n",
    "        vec = vocab_embed[word]\n",
    "    except:\n",
    "        vec = word_emb['<unk>']\n",
    "    return vec"
   ]
  },
  {
   "cell_type": "markdown",
   "metadata": {},
   "source": [
    "## Represent each sentence as the average embeddings of words"
   ]
  },
  {
   "cell_type": "code",
   "execution_count": 33,
   "metadata": {},
   "outputs": [],
   "source": [
    "#Computer the sent vector based on word vectors\n",
    "train_sent_vecs = []\n",
    "for sent in train_processed:\n",
    "    words = sent.split()\n",
    "    sent_vec = np.zeros(50)*1.0\n",
    "    for word in words:\n",
    "        vec = word2vec(word, word_emb)\n",
    "        sent_vec += vec\n",
    "    train_sent_vecs.append(sent_vec/len(words))"
   ]
  },
  {
   "cell_type": "code",
   "execution_count": 34,
   "metadata": {},
   "outputs": [],
   "source": [
    "test_sent_vecs = []\n",
    "for sent in test_processed:\n",
    "    words = sent.split()\n",
    "    sent_vec = np.zeros(50)*1.0\n",
    "    for word in words:\n",
    "        vec = word2vec(word, word_emb)\n",
    "        sent_vec += vec\n",
    "    test_sent_vecs.append(sent_vec/len(words))"
   ]
  },
  {
   "cell_type": "code",
   "execution_count": 35,
   "metadata": {},
   "outputs": [
    {
     "data": {
      "text/plain": [
       "LogisticRegression(C=1.0, class_weight=None, dual=False, fit_intercept=True,\n",
       "          intercept_scaling=1, max_iter=100, multi_class='ovr', n_jobs=1,\n",
       "          penalty='l2', random_state=None, solver='liblinear', tol=0.0001,\n",
       "          verbose=0, warm_start=False)"
      ]
     },
     "execution_count": 35,
     "metadata": {},
     "output_type": "execute_result"
    }
   ],
   "source": [
    "from sklearn.linear_model import LogisticRegression\n",
    "model = LogisticRegression()\n",
    "model.fit(train_sent_vecs, train_labels)"
   ]
  },
  {
   "cell_type": "code",
   "execution_count": 36,
   "metadata": {},
   "outputs": [
    {
     "data": {
      "text/plain": [
       "0.77747999999999995"
      ]
     },
     "execution_count": 36,
     "metadata": {},
     "output_type": "execute_result"
    }
   ],
   "source": [
    "model.score(train_sent_vecs, train_labels)"
   ]
  },
  {
   "cell_type": "code",
   "execution_count": 37,
   "metadata": {},
   "outputs": [
    {
     "data": {
      "text/plain": [
       "0.77664"
      ]
     },
     "execution_count": 37,
     "metadata": {},
     "output_type": "execute_result"
    }
   ],
   "source": [
    "model.score(test_sent_vecs, test_labels)"
   ]
  },
  {
   "cell_type": "markdown",
   "metadata": {},
   "source": [
    "## Visualize Word Embeddings"
   ]
  },
  {
   "cell_type": "code",
   "execution_count": 38,
   "metadata": {},
   "outputs": [],
   "source": [
    "words = word_emb.keys()"
   ]
  },
  {
   "cell_type": "code",
   "execution_count": 60,
   "metadata": {},
   "outputs": [],
   "source": [
    "words = list(words)\n",
    "words = ['good', 'bad', 'nice', 'awesome', 'aweful', 'shit', 'positive']\n",
    "embs = []\n",
    "for w in words:\n",
    "    embs.append(word_emb[w])\n",
    "embs = np.stack(embs)"
   ]
  },
  {
   "cell_type": "code",
   "execution_count": 61,
   "metadata": {},
   "outputs": [],
   "source": [
    "from sklearn.manifold import TSNE\n",
    "num_points = 400\n",
    "tsne = TSNE(perplexity=30, n_components=2, init='pca', n_iter=5000)\n",
    "two_d_embeddings = tsne.fit_transform(embs)"
   ]
  },
  {
   "cell_type": "code",
   "execution_count": 62,
   "metadata": {},
   "outputs": [
    {
     "data": {
      "image/png": "[encoded data removed]",
      "text/plain": [
       "<Figure size 1080x1080 with 1 Axes>"
      ]
     },
     "metadata": {},
     "output_type": "display_data"
    }
   ],
   "source": [
    "def plot(embeddings, labels):\n",
    "  assert embeddings.shape[0] >= len(labels), 'More labels than embeddings'\n",
    "  plt.figure(figsize=(15,15))  # in inches\n",
    "  for i, label in enumerate(labels):\n",
    "    x, y = embeddings[i,:]\n",
    "    plt.scatter(x, y)\n",
    "    plt.annotate(label, xy=(x, y), xytext=(5, 2), textcoords='offset points',\n",
    "                   ha='right', va='bottom')\n",
    "\n",
    "#words = [list(ti.get_vocab())[i] for i in range(1, num_points+1)]\n",
    "plot(two_d_embeddings, words)"
   ]
  },
  {
   "cell_type": "markdown",
   "metadata": {},
   "source": [
    "## CNN"
   ]
  },
  {
   "cell_type": "code",
   "execution_count": 63,
   "metadata": {},
   "outputs": [],
   "source": [
    "sent_lengths = [len(sent.split()) for sent in train_processed]"
   ]
  },
  {
   "cell_type": "code",
   "execution_count": 64,
   "metadata": {},
   "outputs": [
    {
     "data": {
      "text/plain": [
       "array([  10.,  129.,  177.,  288.,  464.])"
      ]
     },
     "execution_count": 64,
     "metadata": {},
     "output_type": "execute_result"
    }
   ],
   "source": [
    "np.percentile(sent_lengths, [0, 25, 50, 75, 90])"
   ]
  },
  {
   "cell_type": "code",
   "execution_count": 66,
   "metadata": {},
   "outputs": [],
   "source": [
    "#Computer the sent vector based on word vectors\n",
    "max_word_len = 500\n",
    "train_sent_vecs = []\n",
    "for sent in train_processed:\n",
    "    words = sent.split()\n",
    "    sent_vec = []\n",
    "    for word in words:\n",
    "        vec = word2vec(word, word_emb)\n",
    "        sent_vec.append(vec)\n",
    "    #Cut long sentence\n",
    "    if len(words) > max_word_len:\n",
    "        sent_vec = sent_vec[:max_word_len]\n",
    "    #Pad short sentence\n",
    "    if len(words) < max_word_len:\n",
    "        for _ in np.arange(max_word_len - len(words)):\n",
    "            vec = np.zeros(50)\n",
    "            sent_vec.append(vec)\n",
    "    sent_vec = np.stack(sent_vec)\n",
    "    train_sent_vecs.append(sent_vec)\n",
    "train_sent_vecs = np.stack(train_sent_vecs)       "
   ]
  },
  {
   "cell_type": "code",
   "execution_count": 138,
   "metadata": {},
   "outputs": [],
   "source": [
    "class generate_samples:\n",
    "    '''\n",
    "    Generate samples for training data or testing data\n",
    "    '''\n",
    "    def __init__(self, data, labels, is_training=True):\n",
    "        '''\n",
    "        Args:\n",
    "        data: numpy\n",
    "        labels: numpy\n",
    "        '''\n",
    "        self.data = data\n",
    "        self.labels = labels\n",
    "        self.is_training = is_training\n",
    "        self.index = 0\n",
    "        \n",
    "    def generate_samples(self, sents, labels, batch_size=64):\n",
    "        '''\n",
    "        Select a batch_size of sentences\n",
    "        Transform each sentence into a sequence of embeddings\n",
    "        '''\n",
    "        indice = np.random.choice(len(sents), batch_size)\n",
    "        sents = sents[indice]\n",
    "        labels = labels[indice]\n",
    "        sent_vecs, sent_lens = create_sent_emb(sents)\n",
    "        return sent_vecs, labels, sent_lens\n",
    "    \n",
    "    def create_sent_emb(self, sents):\n",
    "        '''\n",
    "        Create sequences of word embeddings for sentences\n",
    "        '''\n",
    "        sent_vecs = []#A matrix represents a sentence\n",
    "        sent_lens = []#length of each sentence\n",
    "        for sent in sents:\n",
    "            words = sent.split()\n",
    "            sent_lens.append(len(words))\n",
    "            sent_vec = []\n",
    "            for word in words:\n",
    "                vec = word2vec(word, word_emb)\n",
    "                sent_vec.append(vec)\n",
    "            #Cut long sentence\n",
    "            if len(words) > max_word_len:\n",
    "                sent_vec = sent_vec[:max_word_len]\n",
    "            #Pad short sentence\n",
    "            if len(words) < max_word_len:\n",
    "                for _ in np.arange(max_word_len - len(words)):\n",
    "                    vec = np.zeros(50)\n",
    "                    sent_vec.append(vec)\n",
    "            sent_vec = np.stack(sent_vec)\n",
    "            sent_vecs.append(sent_vec)\n",
    "        sent_vecs = np.stack(sent_vecs)\n",
    "        return sent_vecs, sent_lens\n",
    "        \n",
    "    def generate(self, batch_size=64):\n",
    "        if self.is_training:\n",
    "            sent_vecs, sent_labels, lengths = self.generate_samples(self.data, \n",
    "                                                               self.labels,\n",
    "                                                              batch_size)\n",
    "        else:\n",
    "            start = self.index\n",
    "            end = start + batch_size\n",
    "            if end > len(self.data):\n",
    "                print('Out of sample size')\n",
    "                self.index = 0\n",
    "            sents = self.data[start:end]\n",
    "            sent_labels = self.labels[start:end]\n",
    "            sent_vecs, lengths = self.create_sent_emb(sents)\n",
    "            self.index = end\n",
    "        return sent_vecs, sent_labels, lengths\n",
    "            \n",
    "            "
   ]
  },
  {
   "cell_type": "code",
   "execution_count": 139,
   "metadata": {},
   "outputs": [],
   "source": [
    "train_gs = generate_samples(np.array(train_processed), np.array(train_labels))"
   ]
  },
  {
   "cell_type": "code",
   "execution_count": 140,
   "metadata": {},
   "outputs": [],
   "source": [
    "sent_vecs, sent_labels, lengths = train_gs.generate(8)"
   ]
  },
  {
   "cell_type": "code",
   "execution_count": 141,
   "metadata": {},
   "outputs": [],
   "source": [
    "test_gs = generate_samples(np.array(test_processed), np.array(test_labels), False)"
   ]
  },
  {
   "cell_type": "code",
   "execution_count": 142,
   "metadata": {},
   "outputs": [],
   "source": [
    "sent_vecs, sent_labels, lengths = test_gs.generate(8)"
   ]
  },
  {
   "cell_type": "markdown",
   "metadata": {},
   "source": [
    "## CNN"
   ]
  },
  {
   "cell_type": "code",
   "execution_count": 102,
   "metadata": {},
   "outputs": [],
   "source": [
    "class trainConfig:\n",
    "    max_doc_len = max_word_len\n",
    "    label_size = 2\n",
    "    embed_size = 50\n",
    "    hidden_size = 250\n",
    "    batch_size = 64\n",
    "    layer_size = 2\n",
    "    \n",
    "class testConfig:\n",
    "    max_doc_len = max_word_len\n",
    "    label_size = 2\n",
    "    embed_size = 50\n",
    "    hidden_size = 250\n",
    "    batch_size = 64\n",
    "    layer_size = 2\n",
    "    \n",
    "class singleConfig:\n",
    "    max_doc_len = max_word_len\n",
    "    label_size = 2\n",
    "    embed_size = 50\n",
    "    hidden_size = 250#hidden size for hidden state of rnn\n",
    "    batch_size = 1\n",
    "    layer_size = 2"
   ]
  },
  {
   "cell_type": "code",
   "execution_count": 103,
   "metadata": {},
   "outputs": [],
   "source": [
    "import functools\n",
    "import tensorflow as tf\n",
    "def lazy_property(function):\n",
    "    attribute = '_cache_' + function.__name__\n",
    "\n",
    "    @property\n",
    "    @functools.wraps(function)\n",
    "    def decorator(self):\n",
    "        if not hasattr(self, attribute):\n",
    "            setattr(self, attribute, function(self))\n",
    "        return getattr(self, attribute)\n",
    "\n",
    "    return decorator"
   ]
  },
  {
   "cell_type": "code",
   "execution_count": 150,
   "metadata": {},
   "outputs": [],
   "source": [
    "from tensorflow.contrib import rnn\n",
    "class CNN_Model:\n",
    "    def __init__(self, config, is_training=True):\n",
    "        self.embed_size = config.embed_size\n",
    "        self.hidden_size = config.hidden_size\n",
    "        self.label_size = config.label_size\n",
    "        self.batch_size = config.batch_size\n",
    "        self.max_doc_len = config.max_doc_len\n",
    "        self.is_training = is_training\n",
    "        self.x = tf.placeholder(tf.float32, \n",
    "                                [self.batch_size, self.max_doc_len, \n",
    "                                 self.embed_size])\n",
    "        self.y = tf.placeholder(tf.int32, [self.batch_size])\n",
    "        self.lengths = tf.placeholder(tf.int32, [self.batch_size])\n",
    "        self.predict\n",
    "        if is_training:\n",
    "            self.optimize\n",
    "        print('Model Initialized!')\n",
    "    \n",
    "    @lazy_property\n",
    "    def cost(self):\n",
    "        logits = self.inference\n",
    "        targets = tf.one_hot(self.y, self.label_size, 1, 0)\n",
    "        targets = tf.cast(targets, tf.float32)\n",
    "        #Note  tf.nn.softmax_cross_entropy_with_logits(labels=Y, logits=activation)\n",
    "        loss = tf.losses.softmax_cross_entropy(targets, logits)\n",
    "        return loss\n",
    "    \n",
    "    @lazy_property\n",
    "    def predict(self):\n",
    "        logits = self.inference\n",
    "        #probs = tf.nn.softmax(logits)\n",
    "        predictions = tf.argmax(logits, 1)\n",
    "        return predictions\n",
    "    \n",
    "    @lazy_property\n",
    "    def correct_num(self):\n",
    "        prediction = self.predict\n",
    "        targets = tf.reshape(self.y, [-1])\n",
    "        targets = tf.cast(targets, tf.int64)\n",
    "        correct_prediction = tf.equal(prediction, targets)\n",
    "        correct_num = tf.reduce_sum(tf.cast(correct_prediction, \"float\"))\n",
    "        return correct_num\n",
    "    \n",
    "    @lazy_property\n",
    "    def optimize(self):\n",
    "        with tf.variable_scope('optimizer'):\n",
    "            cost = self.cost\n",
    "        #with tf.name_scope('Optimizer'):\n",
    "            #self._learning_rate = tf.Variable(0.0, trainable=False)\n",
    "            train_op = tf.train.AdamOptimizer(0.0001).minimize(cost)\n",
    "            #train_op = tf.train.AdamOptimizer(self._learning_rate).minimize(cost)\n",
    "            #tvars = tf.trainable_variables()\n",
    "            #grads, _ = tf.clip_by_global_norm(tf.gradients(cost, tvars), 6)\n",
    "            #optimizer = tf.train.AdamOptimizer(self._learning_rate)\n",
    "            #train_op = optimizer.apply_gradients(zip(grads, tvars))\n",
    "        return train_op\n",
    "    \n",
    "    @lazy_property\n",
    "    def inference(self):\n",
    "        #Batch_size, word_length, embed_size\n",
    "        inputs = tf.nn.dropout(self.x, 0.5)\n",
    "        #Mask those padding words as 0, others as 11\n",
    "        #mask = tf.sequence_mask(self.lengths, MAX_DOCUMENT_LENGTH)\n",
    "        #mask = tf.cast(mask, dtype=tf.float32)\n",
    "        #Duplicate binary values for the embeddings\n",
    "        #Those embeddings for the padding words are masked\n",
    "        #Broadcast embed_size times\n",
    "        #mask_transient = tf.tile(mask, [1, self.embed_size])\n",
    "        #mask_embed = tf.transpose(tf.reshape(mask_transient, [self.batch_size, \n",
    "                                                              #self.embed_size,\n",
    "                                                #MAX_DOCUMENT_LENGTH]), [0, 2, 1])\n",
    "        #mask_inputs = tf.multiply(mask_embed, inputs)\n",
    "        #Expand the dim to cater to CNN\n",
    "        #Batch_size, word_length, embed_size, 1\n",
    "        intputs_expanded = tf.expand_dims(inputs, -1)\n",
    "        \n",
    "        #Three kinds of convolutional kernels, with kernel size 2, 3, 4\n",
    "        filter_sizes = [2, 3, 4]\n",
    "        num_filters = 128\n",
    "        # Create a convolution + maxpool layer for each filter size\n",
    "        pooled_outputs = []\n",
    "        for i, filter_size in enumerate(filter_sizes):\n",
    "            with tf.variable_scope(\"conv-maxpool-%s\" % filter_size):\n",
    "                # Convolution Layer\n",
    "                h = tf.layers.conv2d(intputs_expanded, num_filters,\n",
    "                                       kernel_size=(filter_size, self.embed_size),\n",
    "                                       strides=(1, 1), padding='valid',\n",
    "                                        activation=tf.nn.relu)\n",
    "    \n",
    "                pooled = tf.nn.max_pool(\n",
    "                    h,\n",
    "                    ksize=[1, self.max_doc_len-filter_size+1, \n",
    "                           1, 1],\n",
    "                    strides=[1, 1, 1, 1],\n",
    "                    padding='VALID',\n",
    "                    name=\"pool\")\n",
    "        \n",
    "                pooled_outputs.append(pooled)\n",
    "            #self.weights.append(W)\n",
    "            \n",
    "        \n",
    "        num_filters_total = num_filters * len(filter_sizes)\n",
    "        h_pool = tf.concat(pooled_outputs, 3)\n",
    "        h_pool_flat = tf.reshape(h_pool, [-1, num_filters_total])\n",
    "        \n",
    "        if self.is_training:\n",
    "            h_pool_flat = tf.nn.dropout(h_pool_flat, 0.5)\n",
    "        \n",
    "        \n",
    "        with tf.variable_scope('output'):\n",
    "            logits = tf.layers.dense(h_pool_flat, self.label_size, \n",
    "                                     kernel_regularizer=tf.contrib.layers.l2_regularizer(0.003))\n",
    "            #weights = tf.get_variable('weights', [num_filters_total, self.label_size], dtype=tf.float32)\n",
    "            #biases = tf.get_variable('biases', [self.label_size], dtype=tf.float32)\n",
    "        \n",
    "        return logits\n",
    "    \n",
    "    @property\n",
    "    def learningRate(self):\n",
    "        return self._learning_rate\n",
    "        "
   ]
  },
  {
   "cell_type": "code",
   "execution_count": 151,
   "metadata": {},
   "outputs": [
    {
     "name": "stdout",
     "output_type": "stream",
     "text": [
      "Model Initialized!\n",
      "Model Initialized!\n",
      "Model Initialized!\n"
     ]
    }
   ],
   "source": [
    "graph_cnn = tf.Graph()\n",
    "#Create models for training and testing data\n",
    "with graph_cnn.as_default():\n",
    "    initializer = tf.random_uniform_initializer(-0.02, 0.02)\n",
    "    with tf.name_scope('train'):\n",
    "        #Set different models for different buckets\n",
    "        with tf.variable_scope(\"Model\", reuse=None, initializer=initializer):\n",
    "            train_model = CNN_Model(trainConfig)\n",
    "            saver=tf.train.Saver()\n",
    "    with tf.name_scope('test'):\n",
    "        #Set different models for different buckets\n",
    "        with tf.variable_scope(\"Model\", reuse=True, initializer=initializer):\n",
    "            test_model = CNN_Model(testConfig, False)\n",
    "            single_model = CNN_Model(singleConfig, False)"
   ]
  },
  {
   "cell_type": "code",
   "execution_count": 106,
   "metadata": {},
   "outputs": [
    {
     "data": {
      "text/plain": [
       "390"
      ]
     },
     "execution_count": 106,
     "metadata": {},
     "output_type": "execute_result"
    }
   ],
   "source": [
    "train_chunk_num = int(len(train_processed)/trainConfig.batch_size)\n",
    "test_chunk_num = int(len(test_processed)/testConfig.batch_size)\n",
    "train_chunk_num"
   ]
  },
  {
   "cell_type": "code",
   "execution_count": 107,
   "metadata": {},
   "outputs": [
    {
     "data": {
      "text/plain": [
       "40"
      ]
     },
     "execution_count": 107,
     "metadata": {},
     "output_type": "execute_result"
    }
   ],
   "source": [
    "remain_num = len(test_processed) - test_chunk_num * testConfig.batch_size\n",
    "remain_num"
   ]
  },
  {
   "cell_type": "code",
   "execution_count": 156,
   "metadata": {},
   "outputs": [
    {
     "name": "stdout",
     "output_type": "stream",
     "text": [
      "INFO:tensorflow:Restoring parameters from ckpt_cnn/cnn.ckpt\n",
      "Loss: 0.5636\n",
      "Loss: 0.5592\n",
      "Loss: 0.5986\n",
      "Loss: 0.6545\n",
      "Epoch 0 time:241.21\n"
     ]
    }
   ],
   "source": [
    "import time, os\n",
    "epochs = 1\n",
    "#train_chunk_num = 10\n",
    "file = \"ckpt_cnn/cnn.ckpt\"\n",
    "with tf.Session(graph=graph_cnn) as sess:\n",
    "    #Initialize parameters\n",
    "    init = tf.global_variables_initializer()\n",
    "    if os.path.exists(\"ckpt_cnn/cnn.ckpt.index\"):\n",
    "        saver.restore(sess, file)\n",
    "    else:\n",
    "         sess.run(init)\n",
    "    start_time = time.time()\n",
    "    for m in range(epochs):\n",
    "        for i in range(train_chunk_num):\n",
    "            #sess.run(tf.assign(learning_rate, 0.002*((0.98)**m)))\n",
    "            x, y, lengths = train_gs.generate(trainConfig.batch_size)\n",
    "            feed_dict = {train_model.x:x, train_model.y:y, train_model.lengths:lengths}\n",
    "            l, _ = sess.run([train_model.cost, train_model.optimize], feed_dict=feed_dict)\n",
    "            if i%100 == 0:\n",
    "                print('Loss:', round(l, 4))\n",
    "        end_time = time.time()\n",
    "        print('Epoch', m, 'time:{:.2f}'.format(end_time - start_time))\n",
    "        \n",
    "    saver.save(sess,'ckpt_cnn/cnn.ckpt')\n",
    "     "
   ]
  },
  {
   "cell_type": "code",
   "execution_count": 157,
   "metadata": {},
   "outputs": [
    {
     "name": "stdout",
     "output_type": "stream",
     "text": [
      "Testing...\n",
      "INFO:tensorflow:Restoring parameters from ckpt_cnn/cnn.ckpt\n",
      "Parameters restored\n",
      "Testing Time:96.63\n",
      "0.7452\n"
     ]
    }
   ],
   "source": [
    "#Calculate Testing Accuracy\n",
    "with tf.Session(graph=graph_cnn) as sess:\n",
    "    print('Testing...')\n",
    "    count = 0\n",
    "    #saver = tf.train.import_meta_graph('ckpt_cnn/cnn.ckpt.meta')\n",
    "    saver.restore(sess,tf.train.latest_checkpoint('ckpt_cnn/'))\n",
    "    print('Parameters restored')\n",
    "    start_time = time.time()\n",
    "    test_gs = generate_samples(np.array(test_processed), np.array(test_labels), False)\n",
    "    for _ in range(test_chunk_num):\n",
    "        #Traverse each data\n",
    "        x, y, lengths = test_gs.generate(testConfig.batch_size)\n",
    "        feed_dict = {test_model.x:x, test_model.y:y, test_model.lengths:lengths}\n",
    "        n = sess.run(test_model.correct_num, feed_dict=feed_dict)\n",
    "        count += np.sum(n)\n",
    "    for _ in range(remain_num):\n",
    "        #Traverse each data\n",
    "        x, y, lengths = test_gs.generate(1)\n",
    "        feed_dict = {single_model.x:x, single_model.y:y, \n",
    "                     single_model.lengths:lengths}\n",
    "        n = sess.run(single_model.correct_num, feed_dict=feed_dict)\n",
    "        count += np.sum(n)\n",
    "    end_time = time.time()\n",
    "    print('Testing Time:{:.2f}'.format(end_time - start_time))\n",
    "    print(count*1.0/len(test_processed)) "
   ]
  },
  {
   "cell_type": "code",
   "execution_count": null,
   "metadata": {},
   "outputs": [],
   "source": []
  }
 ],
 "metadata": {
  "kernelspec": {
   "display_name": "Python 3",
   "language": "python",
   "name": "python3"
  },
  "language_info": {
   "codemirror_mode": {
    "name": "ipython",
    "version": 3
   },
   "file_extension": ".py",
   "mimetype": "text/x-python",
   "name": "python",
   "nbconvert_exporter": "python",
   "pygments_lexer": "ipython3",
   "version": "3.6.0"
  }
 },
 "nbformat": 4,
 "nbformat_minor": 2
}
